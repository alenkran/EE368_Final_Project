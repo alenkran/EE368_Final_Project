{
 "cells": [
  {
   "cell_type": "code",
   "execution_count": 4,
   "metadata": {
    "collapsed": true
   },
   "outputs": [],
   "source": [
    "import mdtraj as md\n",
    "import numpy as np\n"
   ]
  },
  {
   "cell_type": "code",
   "execution_count": 6,
   "metadata": {
    "collapsed": false
   },
   "outputs": [],
   "source": [
    "sample_result = np.array([[1, 2, 3, 4], [1, 3, 5, 2], [1.5, 3, 2, 0], [3, 1, 10, 3]])"
   ]
  },
  {
   "cell_type": "code",
   "execution_count": 33,
   "metadata": {
    "collapsed": false
   },
   "outputs": [
    {
     "name": "stdout",
     "output_type": "stream",
     "text": [
      "[[        nan         nan  4.27200187  7.41619849]\n",
      " [        nan         nan  3.64005494  5.83095189]\n",
      " [ 4.27200187  3.64005494         nan  8.90224691]\n",
      " [ 7.41619849  5.83095189  8.90224691         nan]]\n",
      "[0 1]\n",
      "2\n"
     ]
    },
    {
     "ename": "IndexError",
     "evalue": "axis 1 out of bounds [0, 1)",
     "output_type": "error",
     "traceback": [
      "\u001b[1;31m---------------------------------------------------------------------------\u001b[0m",
      "\u001b[1;31mIndexError\u001b[0m                                Traceback (most recent call last)",
      "\u001b[1;32m<ipython-input-33-17014c3ab01f>\u001b[0m in \u001b[0;36m<module>\u001b[1;34m()\u001b[0m\n\u001b[0;32m     32\u001b[0m \u001b[1;33m\u001b[0m\u001b[0m\n\u001b[0;32m     33\u001b[0m \u001b[1;33m\u001b[0m\u001b[0m\n\u001b[1;32m---> 34\u001b[1;33m \u001b[0mfind_trajectory\u001b[0m\u001b[1;33m(\u001b[0m\u001b[0msample_result\u001b[0m\u001b[1;33m)\u001b[0m\u001b[1;33m\u001b[0m\u001b[0m\n\u001b[0m",
      "\u001b[1;32m<ipython-input-33-17014c3ab01f>\u001b[0m in \u001b[0;36mfind_trajectory\u001b[1;34m(iso_result)\u001b[0m\n\u001b[0;32m     26\u001b[0m             \u001b[1;32mprint\u001b[0m \u001b[0mfinal_order\u001b[0m\u001b[1;33m\u001b[0m\u001b[0m\n\u001b[0;32m     27\u001b[0m             \u001b[1;32mprint\u001b[0m \u001b[0mminidx2\u001b[0m\u001b[1;33m\u001b[0m\u001b[0m\n\u001b[1;32m---> 28\u001b[1;33m             \u001b[0mfinal_order\u001b[0m \u001b[1;33m=\u001b[0m \u001b[0mnp\u001b[0m\u001b[1;33m.\u001b[0m\u001b[0mappend\u001b[0m\u001b[1;33m(\u001b[0m\u001b[0mfinal_order\u001b[0m\u001b[1;33m,\u001b[0m \u001b[0mminidx2\u001b[0m\u001b[1;33m,\u001b[0m \u001b[0maxis\u001b[0m\u001b[1;33m=\u001b[0m\u001b[1;36m1\u001b[0m\u001b[1;33m)\u001b[0m\u001b[1;33m\u001b[0m\u001b[0m\n\u001b[0m\u001b[0;32m     29\u001b[0m             \u001b[0mdistances\u001b[0m\u001b[1;33m[\u001b[0m\u001b[0mpair2\u001b[0m\u001b[1;33m,\u001b[0m \u001b[0mminidx2\u001b[0m\u001b[1;33m]\u001b[0m \u001b[1;33m=\u001b[0m \u001b[0mnp\u001b[0m\u001b[1;33m.\u001b[0m\u001b[0mnan\u001b[0m\u001b[1;33m\u001b[0m\u001b[0m\n\u001b[0;32m     30\u001b[0m             \u001b[0mdistances\u001b[0m\u001b[1;33m[\u001b[0m\u001b[0mminidx2\u001b[0m\u001b[1;33m,\u001b[0m \u001b[0mpair2\u001b[0m\u001b[1;33m]\u001b[0m \u001b[1;33m=\u001b[0m \u001b[0mnp\u001b[0m\u001b[1;33m.\u001b[0m\u001b[0mnan\u001b[0m\u001b[1;33m\u001b[0m\u001b[0m\n",
      "\u001b[1;32mC:\\Users\\minch_000\\Anaconda2\\lib\\site-packages\\numpy\\lib\\function_base.pyc\u001b[0m in \u001b[0;36mappend\u001b[1;34m(arr, values, axis)\u001b[0m\n\u001b[0;32m   4148\u001b[0m         \u001b[0mvalues\u001b[0m \u001b[1;33m=\u001b[0m \u001b[0mravel\u001b[0m\u001b[1;33m(\u001b[0m\u001b[0mvalues\u001b[0m\u001b[1;33m)\u001b[0m\u001b[1;33m\u001b[0m\u001b[0m\n\u001b[0;32m   4149\u001b[0m         \u001b[0maxis\u001b[0m \u001b[1;33m=\u001b[0m \u001b[0marr\u001b[0m\u001b[1;33m.\u001b[0m\u001b[0mndim\u001b[0m\u001b[1;33m-\u001b[0m\u001b[1;36m1\u001b[0m\u001b[1;33m\u001b[0m\u001b[0m\n\u001b[1;32m-> 4150\u001b[1;33m     \u001b[1;32mreturn\u001b[0m \u001b[0mconcatenate\u001b[0m\u001b[1;33m(\u001b[0m\u001b[1;33m(\u001b[0m\u001b[0marr\u001b[0m\u001b[1;33m,\u001b[0m \u001b[0mvalues\u001b[0m\u001b[1;33m)\u001b[0m\u001b[1;33m,\u001b[0m \u001b[0maxis\u001b[0m\u001b[1;33m=\u001b[0m\u001b[0maxis\u001b[0m\u001b[1;33m)\u001b[0m\u001b[1;33m\u001b[0m\u001b[0m\n\u001b[0m",
      "\u001b[1;31mIndexError\u001b[0m: axis 1 out of bounds [0, 1)"
     ]
    }
   ],
   "source": [
    "def find_trajectory(iso_result):\n",
    "    num_frames, num_components = iso_result.shape\n",
    "    distances = np.zeros((num_frames, num_frames))\n",
    "    for fr1 in range(num_frames):\n",
    "        for fr2 in range(num_frames):\n",
    "            distances[fr1, fr2] = np.linalg.norm(iso_result[fr1,] - iso_result[fr2,])\n",
    "    distances[distances==0] = np.nan\n",
    "    pair1, pair2 = np.unravel_index(np.nanargmin(distances), distances.shape)\n",
    "    distances[pair1, pair2] = np.nan\n",
    "    distances[pair2, pair1] = np.nan\n",
    "    print distances\n",
    "    final_order = np.array([pair1, pair2])\n",
    "    while True:\n",
    "        if np.nansum(distances) == 0:\n",
    "            break\n",
    "        min1 = np.nanmin(distances[pair1,])\n",
    "        minidx1 = np.nanargmin(distances[pair1,])\n",
    "        min2 = np.nanmin(distances[pair2,])\n",
    "        minidx2 = np.nanargmin(distances[pair2,])\n",
    "        if min1 < min2:\n",
    "            final_order = np.insert(final_order, 0, minidx1)\n",
    "            distances[pair1, minidx1] = np.nan\n",
    "            distances[minidx1, pair1] = np.nan\n",
    "            pair2 = minidx1\n",
    "        else:\n",
    "            print final_order\n",
    "            print minidx2\n",
    "            final_order = np.append(final_order, minidx2)\n",
    "            distances[pair2, minidx2] = np.nan\n",
    "            distances[minidx2, pair2] = np.nan\n",
    "            pair1 = minidx2        \n",
    "        \n",
    "        \n",
    "find_trajectory(sample_result)"
   ]
  },
  {
   "cell_type": "code",
   "execution_count": 20,
   "metadata": {
    "collapsed": false
   },
   "outputs": [
    {
     "ename": "NameError",
     "evalue": "name 'distances' is not defined",
     "output_type": "error",
     "traceback": [
      "\u001b[1;31m---------------------------------------------------------------------------\u001b[0m",
      "\u001b[1;31mNameError\u001b[0m                                 Traceback (most recent call last)",
      "\u001b[1;32m<ipython-input-20-c65a11e70d7a>\u001b[0m in \u001b[0;36m<module>\u001b[1;34m()\u001b[0m\n\u001b[1;32m----> 1\u001b[1;33m \u001b[0mdistances\u001b[0m\u001b[1;33m.\u001b[0m\u001b[0msum\u001b[0m\u001b[1;33m(\u001b[0m\u001b[1;33m)\u001b[0m\u001b[1;33m\u001b[0m\u001b[0m\n\u001b[0m",
      "\u001b[1;31mNameError\u001b[0m: name 'distances' is not defined"
     ]
    }
   ],
   "source": []
  }
 ],
 "metadata": {
  "kernelspec": {
   "display_name": "Python 2",
   "language": "python",
   "name": "python2"
  },
  "language_info": {
   "codemirror_mode": {
    "name": "ipython",
    "version": 2
   },
   "file_extension": ".py",
   "mimetype": "text/x-python",
   "name": "python",
   "nbconvert_exporter": "python",
   "pygments_lexer": "ipython2",
   "version": "2.7.12"
  }
 },
 "nbformat": 4,
 "nbformat_minor": 0
}
