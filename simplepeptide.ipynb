{
 "cells": [
  {
   "cell_type": "code",
   "execution_count": 1,
   "metadata": {
    "collapsed": false
   },
   "outputs": [],
   "source": [
    "import mdtraj as md\n",
    "import numpy as np\n",
    "import scipy\n",
    "from scipy import ndimage\n",
    "from scipy import misc\n",
    "from sklearn import (manifold, datasets, decomposition, ensemble, discriminant_analysis, random_projection)\n",
    "import reconstruct_video as rv\n",
    "import networkx as nx"
   ]
  },
  {
   "cell_type": "code",
   "execution_count": 2,
   "metadata": {
    "collapsed": false
   },
   "outputs": [],
   "source": [
    "# Read Data and Apply ISOMAP\n",
    "\n",
    "# read data\n",
    "t = md.load('.\\\\Data\\\\akpeptide\\\\ak19_2500ps.dcd', top='.\\\\Data\\\\akpeptide\\\\ak19.pdb')\n",
    "t = t[0:1000]\n",
    "# Get trajectory info. reshape to prep for isomap\n",
    "num_frames, num_atoms, num_axis = t.xyz.shape\n",
    "X = np.reshape(t.xyz, (num_frames, num_atoms*num_axis))\n",
    "np.random.shuffle(X)\n",
    "\n",
    "# apply isomap\n",
    "n_neighbors = 5\n",
    "n_components = 20\n",
    "X_iso = manifold.Isomap(n_neighbors, n_components).fit_transform(X)"
   ]
  },
  {
   "cell_type": "code",
   "execution_count": 3,
   "metadata": {
    "collapsed": false
   },
   "outputs": [],
   "source": [
    "reload(rv)\n",
    "# Reconstruct the video using graph algorithms\n",
    "minG = rv.get_minimum_spanning_tree(X_iso)\n",
    "\n",
    "order = rv.get_path_from_MSP(minG)"
   ]
  },
  {
   "cell_type": "code",
   "execution_count": 4,
   "metadata": {
    "collapsed": true
   },
   "outputs": [],
   "source": [
    "rv.save_new_trajectory(t, order, 'show_TJ.dcd')"
   ]
  },
  {
   "cell_type": "code",
   "execution_count": 115,
   "metadata": {
    "collapsed": false
   },
   "outputs": [
    {
     "name": "stdout",
     "output_type": "stream",
     "text": [
      "[0, 1, 2, 3, 4, 5, 6, 7, 8, 13, 12, 10, 9, 11, 14, 15, 16, 20, 21, 23, 24, 25, 26, 27, 28, 29, 30, 33, 32, 34, 35, 37, 36, 38, 39, 40, 41, 42, 45, 44, 43, 46, 47, 49, 52, 53, 54, 51, 48, 50, 55, 57, 56, 58, 60, 59, 61, 62, 63, 64, 65, 66, 67, 68, 74, 75, 73, 72, 71, 70, 69, 76, 77, 78, 79, 82, 81, 80, 83, 84, 85, 86, 87, 88, 89, 90, 91, 92, 93, 94, 96, 97, 98, 99, 95, 31, 22, 17, 18, 19]\n"
     ]
    }
   ],
   "source": [
    "print(list(nx.dfs_preorder_nodes(minG,0)))"
   ]
  },
  {
   "cell_type": "code",
   "execution_count": 108,
   "metadata": {
    "collapsed": false
   },
   "outputs": [
    {
     "data": {
      "text/plain": [
       "[0, 1, 2, 3, 4, 5, 6, 7, 8, 13, 14, 15, 16, 21, 23, 22]"
      ]
     },
     "execution_count": 108,
     "metadata": {},
     "output_type": "execute_result"
    }
   ],
   "source": [
    "order"
   ]
  }
 ],
 "metadata": {
  "kernelspec": {
   "display_name": "Python 2",
   "language": "python",
   "name": "python2"
  },
  "language_info": {
   "codemirror_mode": {
    "name": "ipython",
    "version": 2
   },
   "file_extension": ".py",
   "mimetype": "text/x-python",
   "name": "python",
   "nbconvert_exporter": "python",
   "pygments_lexer": "ipython2",
   "version": "2.7.12"
  }
 },
 "nbformat": 4,
 "nbformat_minor": 0
}
