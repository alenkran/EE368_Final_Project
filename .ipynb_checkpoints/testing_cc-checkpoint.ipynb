{
 "cells": [
  {
   "cell_type": "code",
   "execution_count": 125,
   "metadata": {
    "collapsed": false
   },
   "outputs": [],
   "source": [
    "%matplotlib inline\n",
    "import matplotlib\n",
    "import numpy as np\n",
    "import matplotlib.pyplot as plt\n",
    "from scipy import misc\n",
    "from sklearn import (manifold, datasets, decomposition, ensemble, discriminant_analysis, random_projection)"
   ]
  },
  {
   "cell_type": "code",
   "execution_count": 270,
   "metadata": {
    "collapsed": false
   },
   "outputs": [
    {
     "data": {
      "image/png": "[encoded data removed]",
      "text/plain": [
       "<matplotlib.figure.Figure at 0x17359518>"
      ]
     },
     "metadata": {},
     "output_type": "display_data"
    }
   ],
   "source": [
    "def make_moving_square(frames):\n",
    "    square = np.ones((100,100))\n",
    "    empty = np.zeros((200,100))\n",
    "    square = np.concatenate((empty,square,empty), axis=0)\n",
    "    video = []\n",
    "    time = np.linspace(0,1,frames)\n",
    "    for idx in time:\n",
    "        left = np.zeros((500, int(np.ceil(idx*400))))\n",
    "        right = np.zeros((500, int(np.floor((1-idx)*400))))\n",
    "        img = np.concatenate((left, square, right), axis = 1)\n",
    "        video.append(img)\n",
    "    return video\n",
    "\n",
    "num_frame = 15\n",
    "video = make_moving_square(num_frame)\n",
    "plt.imshow(video[1])\n",
    "\n",
    "vec_img = [f.reshape((1, -1)) for f in video]\n",
    "X = np.concatenate(vec_img,axis = 0)\n",
    "labels = range(0,num_frame)"
   ]
  },
  {
   "cell_type": "code",
   "execution_count": 271,
   "metadata": {
    "collapsed": false,
    "scrolled": true
   },
   "outputs": [
    {
     "name": "stdout",
     "output_type": "stream",
     "text": [
      "[[-484.57706183]\n",
      " [-452.96674625]\n",
      " [-377.54612272]\n",
      " [-302.67881676]\n",
      " [-226.48632286]\n",
      " [-151.61901691]\n",
      " [ -75.42652301]\n",
      " [  -0.55921705]\n",
      " [  75.63327685]\n",
      " [ 151.82577075]\n",
      " [ 226.69307671]\n",
      " [ 302.88557061]\n",
      " [ 377.75287657]\n",
      " [ 453.19740735]\n",
      " [ 483.87184857]]\n"
     ]
    }
   ],
   "source": [
    "n_neighbors = 2\n",
    "X_iso = manifold.Isomap(n_neighbors, n_components=1).fit_transform(X)\n",
    "print X_iso"
   ]
  }
 ],
 "metadata": {
  "kernelspec": {
   "display_name": "Python 2",
   "language": "python",
   "name": "python2"
  },
  "language_info": {
   "codemirror_mode": {
    "name": "ipython",
    "version": 2
   },
   "file_extension": ".py",
   "mimetype": "text/x-python",
   "name": "python",
   "nbconvert_exporter": "python",
   "pygments_lexer": "ipython2",
   "version": "2.7.11"
  }
 },
 "nbformat": 4,
 "nbformat_minor": 0
}
