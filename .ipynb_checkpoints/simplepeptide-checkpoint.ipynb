{
 "cells": [
  {
   "cell_type": "markdown",
   "metadata": {},
   "source": [
    "# Simple peptide simulations\n",
    "\n",
    "### Imports"
   ]
  },
  {
   "cell_type": "code",
   "execution_count": 1,
   "metadata": {
    "collapsed": false
   },
   "outputs": [],
   "source": [
    "import mdtraj as md\n",
    "import numpy as np\n",
    "import scipy\n",
    "from scipy import ndimage\n",
    "from scipy import misc\n",
    "from sklearn import (manifold, datasets, decomposition, ensemble, discriminant_analysis, random_projection)\n",
    "import reconstruct_video as rv\n",
    "import networkx as nx\n",
    "import evaluate_traj as ev"
   ]
  },
  {
   "cell_type": "markdown",
   "metadata": {},
   "source": [
    "### AK peptide reconstruction with (x,y,z)"
   ]
  },
  {
   "cell_type": "code",
   "execution_count": 15,
   "metadata": {
    "collapsed": false
   },
   "outputs": [],
   "source": [
    "# Read Data and Apply ISOMAP\n",
    "\n",
    "# read data\n",
    "t = md.load('.\\\\Data\\\\akpeptide\\\\ak19_2500ps.dcd', top='.\\\\Data\\\\akpeptide\\\\ak19.pdb')\n",
    "t = t[0:100]\n",
    "\n",
    "# Get trajectory info. reshape to prep for isomap\n",
    "num_frames, num_atoms, num_axis = t.xyz.shape\n",
    "X = np.reshape(t.xyz, (num_frames, num_atoms*num_axis))\n",
    "\n",
    "# Shuffle the frames!!!!!!\n",
    "np.random.shuffle(X)\n",
    "\n",
    "# apply isomap\n",
    "n_neighbors = 40\n",
    "n_components = 25\n",
    "X_iso = manifold.Isomap(n_neighbors, n_components).fit_transform(X)"
   ]
  },
  {
   "cell_type": "code",
   "execution_count": 16,
   "metadata": {
    "collapsed": false,
    "scrolled": true
   },
   "outputs": [],
   "source": [
    "# Save shuffled frames as dcd, temp is the shuffled md_obj\n",
    "shuffled_traj = t\n",
    "shuffled_traj.xyz = np.reshape(X, (num_frames, num_atoms, num_axis))\n",
    "shuffled_traj.save_dcd('raw_xyz_shuffled.dcd')"
   ]
  },
  {
   "cell_type": "code",
   "execution_count": 17,
   "metadata": {
    "collapsed": false
   },
   "outputs": [],
   "source": [
    "reload(rv)\n",
    "# Reconstruct the video using graph algorithms\n",
    "minG = rv.get_minimum_spanning_tree(X_iso)\n",
    "order = rv.get_path_from_MSP(minG)"
   ]
  },
  {
   "cell_type": "code",
   "execution_count": 18,
   "metadata": {
    "collapsed": false
   },
   "outputs": [
    {
     "ename": "NameError",
     "evalue": "name 'get_reconstructed_traj' is not defined",
     "output_type": "error",
     "traceback": [
      "\u001b[1;31m---------------------------------------------------------------------------\u001b[0m",
      "\u001b[1;31mNameError\u001b[0m                                 Traceback (most recent call last)",
      "\u001b[1;32m<ipython-input-18-7131f1f468f3>\u001b[0m in \u001b[0;36m<module>\u001b[1;34m()\u001b[0m\n\u001b[0;32m      1\u001b[0m \u001b[1;31m# Get reconstructed, new md_obj\u001b[0m\u001b[1;33m\u001b[0m\u001b[1;33m\u001b[0m\u001b[0m\n\u001b[1;32m----> 2\u001b[1;33m \u001b[0mreconstructed_traj\u001b[0m \u001b[1;33m=\u001b[0m \u001b[0mget_reconstructed_traj\u001b[0m\u001b[1;33m(\u001b[0m\u001b[0mshuffled_traj\u001b[0m\u001b[1;33m,\u001b[0m \u001b[0morder\u001b[0m\u001b[1;33m)\u001b[0m\u001b[1;33m\u001b[0m\u001b[0m\n\u001b[0m\u001b[0;32m      3\u001b[0m \u001b[1;33m\u001b[0m\u001b[0m\n\u001b[0;32m      4\u001b[0m \u001b[1;31m# Save reconstructed frames as dcd\u001b[0m\u001b[1;33m\u001b[0m\u001b[1;33m\u001b[0m\u001b[0m\n\u001b[0;32m      5\u001b[0m \u001b[0msave_new_trajectory\u001b[0m\u001b[1;33m(\u001b[0m\u001b[0mreconstructed_traj\u001b[0m\u001b[1;33m,\u001b[0m \u001b[1;34m'raw_xyz_reconst.dcd'\u001b[0m\u001b[1;33m)\u001b[0m\u001b[1;33m\u001b[0m\u001b[0m\n",
      "\u001b[1;31mNameError\u001b[0m: name 'get_reconstructed_traj' is not defined"
     ]
    }
   ],
   "source": [
    "reload(rv)\n",
    "# Get reconstructed, new md_obj\n",
    "reconstructed_traj = get_reconstructed_traj(shuffled_traj, order)\n",
    "\n",
    "# Save reconstructed frames as dcd\n",
    "save_new_trajectory(reconstructed_traj, 'raw_xyz_reconst.dcd')"
   ]
  },
  {
   "cell_type": "code",
   "execution_count": 13,
   "metadata": {
    "collapsed": false
   },
   "outputs": [
    {
     "ename": "IndexError",
     "evalue": "index 82 is out of bounds for axis 0 with size 81",
     "output_type": "error",
     "traceback": [
      "\u001b[1;31m---------------------------------------------------------------------------\u001b[0m",
      "\u001b[1;31mIndexError\u001b[0m                                Traceback (most recent call last)",
      "\u001b[1;32m<ipython-input-13-450174a43cf4>\u001b[0m in \u001b[0;36m<module>\u001b[1;34m()\u001b[0m\n\u001b[0;32m      1\u001b[0m \u001b[1;31m# Calculate RMSD error between frames\u001b[0m\u001b[1;33m\u001b[0m\u001b[1;33m\u001b[0m\u001b[0m\n\u001b[0;32m      2\u001b[0m \u001b[0mreload\u001b[0m\u001b[1;33m(\u001b[0m\u001b[0mev\u001b[0m\u001b[1;33m)\u001b[0m\u001b[1;33m\u001b[0m\u001b[0m\n\u001b[1;32m----> 3\u001b[1;33m \u001b[0merror\u001b[0m \u001b[1;33m=\u001b[0m \u001b[0mev\u001b[0m\u001b[1;33m.\u001b[0m\u001b[0mget_RMSD_error\u001b[0m\u001b[1;33m(\u001b[0m\u001b[0mtemp\u001b[0m\u001b[1;33m,\u001b[0m \u001b[0morder\u001b[0m\u001b[1;33m)\u001b[0m\u001b[1;33m\u001b[0m\u001b[0m\n\u001b[0m\u001b[0;32m      4\u001b[0m \u001b[1;32mprint\u001b[0m \u001b[1;34m'RMSD error between frames:'\u001b[0m\u001b[1;33m,\u001b[0m \u001b[0merror\u001b[0m\u001b[1;33m\u001b[0m\u001b[0m\n",
      "\u001b[1;32mC:\\Users\\minch_000\\Documents\\GitHub\\EE368_Final_Project\\evaluate_traj.pyc\u001b[0m in \u001b[0;36mget_RMSD_error\u001b[1;34m(shuffled_md_obj, order)\u001b[0m\n\u001b[0;32m      8\u001b[0m \u001b[1;32mdef\u001b[0m \u001b[0mget_RMSD_error\u001b[0m\u001b[1;33m(\u001b[0m\u001b[0mshuffled_md_obj\u001b[0m\u001b[1;33m,\u001b[0m \u001b[0morder\u001b[0m\u001b[1;33m)\u001b[0m\u001b[1;33m:\u001b[0m\u001b[1;33m\u001b[0m\u001b[0m\n\u001b[0;32m      9\u001b[0m         \u001b[0mshuffled\u001b[0m \u001b[1;33m=\u001b[0m \u001b[0mshuffled_md_obj\u001b[0m\u001b[1;33m.\u001b[0m\u001b[0mxyz\u001b[0m\u001b[1;33m\u001b[0m\u001b[0m\n\u001b[1;32m---> 10\u001b[1;33m         \u001b[0mrecon\u001b[0m \u001b[1;33m=\u001b[0m \u001b[0mshuffled\u001b[0m\u001b[1;33m[\u001b[0m\u001b[0morder\u001b[0m\u001b[1;33m,\u001b[0m \u001b[1;33m:\u001b[0m\u001b[1;33m,\u001b[0m \u001b[1;33m:\u001b[0m\u001b[1;33m]\u001b[0m\u001b[1;33m\u001b[0m\u001b[0m\n\u001b[0m\u001b[0;32m     11\u001b[0m         \u001b[0mnum_frames\u001b[0m\u001b[1;33m,\u001b[0m \u001b[0mnum_atoms\u001b[0m\u001b[1;33m,\u001b[0m \u001b[0mnum_axis\u001b[0m \u001b[1;33m=\u001b[0m \u001b[0mrecon\u001b[0m\u001b[1;33m.\u001b[0m\u001b[0mshape\u001b[0m\u001b[1;33m\u001b[0m\u001b[0m\n\u001b[0;32m     12\u001b[0m         \u001b[0mrecon\u001b[0m \u001b[1;33m=\u001b[0m \u001b[0mnp\u001b[0m\u001b[1;33m.\u001b[0m\u001b[0mreshape\u001b[0m\u001b[1;33m(\u001b[0m\u001b[0mrecon\u001b[0m\u001b[1;33m,\u001b[0m \u001b[1;33m(\u001b[0m\u001b[0mnum_frames\u001b[0m\u001b[1;33m,\u001b[0m \u001b[0mnum_atoms\u001b[0m\u001b[1;33m*\u001b[0m\u001b[0mnum_axis\u001b[0m\u001b[1;33m)\u001b[0m\u001b[1;33m)\u001b[0m\u001b[1;33m\u001b[0m\u001b[0m\n",
      "\u001b[1;31mIndexError\u001b[0m: index 82 is out of bounds for axis 0 with size 81"
     ]
    }
   ],
   "source": [
    "# Calculate RMSD error between frames\n",
    "reload(ev)\n",
    "error = ev.get_RMSD_error(temp, order)\n",
    "print 'RMSD error between frames:', error"
   ]
  },
  {
   "cell_type": "code",
   "execution_count": 14,
   "metadata": {
    "collapsed": false
   },
   "outputs": [
    {
     "data": {
      "text/plain": [
       "(81L, 229L, 3L)"
      ]
     },
     "execution_count": 14,
     "metadata": {},
     "output_type": "execute_result"
    }
   ],
   "source": [
    "k = temp.xyz\n",
    "k.shape"
   ]
  },
  {
   "cell_type": "markdown",
   "metadata": {
    "collapsed": false
   },
   "source": [
    "### AK peptide reconstruction with (psi, psi)"
   ]
  },
  {
   "cell_type": "code",
   "execution_count": 15,
   "metadata": {
    "collapsed": true
   },
   "outputs": [],
   "source": [
    "# read data\n",
    "t = md.load('.\\\\Data\\\\akpeptide\\\\ak19_2500ps.dcd', top='.\\\\Data\\\\akpeptide\\\\ak19.pdb')\n",
    "t = t[0:500]\n",
    "\n",
    "# Get trajectory info. get phi shi angle data\n",
    "phi_idx, phi = md.compute_phi(t)\n",
    "psi_idx, psi = md.compute_psi(t)\n",
    "angles = np.concatenate((phi, psi), axis=1)\n",
    "num_frames, num_angles = angles.shape\n",
    "#shuffle_idx = np.random.permutation(num_frames)\n",
    "shuffle_idx = range(num_frames)\n",
    "angles = angles[shuffle_idx, :]\n",
    "\n",
    "# apply isomap\n",
    "n_neighbors = 5\n",
    "n_components = 10\n",
    "iso_angles = manifold.Isomap(n_neighbors, n_components).fit_transform(angles)"
   ]
  },
  {
   "cell_type": "code",
   "execution_count": 16,
   "metadata": {
    "collapsed": true
   },
   "outputs": [],
   "source": [
    "# Save shuffled frames as dcd\n",
    "temp = t\n",
    "temp.xyz = temp.xyz[shuffle_idx, :, :]\n",
    "temp.save_dcd('phi_psi_shuffled.dcd')"
   ]
  },
  {
   "cell_type": "code",
   "execution_count": 17,
   "metadata": {
    "collapsed": false
   },
   "outputs": [],
   "source": [
    "reload(rv)\n",
    "# Reconstruct the video using graph algorithms\n",
    "minG_angles = rv.get_minimum_spanning_tree(iso_angles)\n",
    "order_angles = rv.get_path_from_MSP(minG_angles)"
   ]
  },
  {
   "cell_type": "code",
   "execution_count": 18,
   "metadata": {
    "collapsed": false
   },
   "outputs": [],
   "source": [
    "# Save reconstructed frames as dcd\n",
    "rv.save_new_trajectory(temp, order_angles, 'phi_psi_reconst.dcd')"
   ]
  },
  {
   "cell_type": "markdown",
   "metadata": {},
   "source": [
    "### AK peptide reconstruction with (x, y, z) with alignment"
   ]
  },
  {
   "cell_type": "code",
   "execution_count": 16,
   "metadata": {
    "collapsed": false
   },
   "outputs": [],
   "source": [
    "# Read Data and Apply ISOMAP\n",
    "\n",
    "# read data\n",
    "t = md.load('.\\\\Data\\\\akpeptide\\\\ak19_2500ps.dcd', top='.\\\\Data\\\\akpeptide\\\\ak19.pdb')\n",
    "t = t[0:1000]\n",
    "t.superpose(t)\n",
    "\n",
    "# Get trajectory info. reshape to prep for isomap\n",
    "num_frames, num_atoms, num_axis = t.xyz.shape\n",
    "X = np.reshape(t.xyz, (num_frames, num_atoms*num_axis))\n",
    "np.random.shuffle(X)\n",
    "\n",
    "# apply isomap\n",
    "n_neighbors = 40\n",
    "n_components = 30\n",
    "X_iso = manifold.Isomap(n_neighbors, n_components).fit_transform(X)"
   ]
  },
  {
   "cell_type": "code",
   "execution_count": 17,
   "metadata": {
    "collapsed": true
   },
   "outputs": [],
   "source": [
    "# Save shuffled frames as dcd\n",
    "temp = t\n",
    "temp.xyz = np.reshape(X, (num_frames, num_atoms, num_axis))\n",
    "temp.save_dcd('aligned_xyz_shuffled.dcd')"
   ]
  },
  {
   "cell_type": "code",
   "execution_count": 18,
   "metadata": {
    "collapsed": true
   },
   "outputs": [],
   "source": [
    "reload(rv)\n",
    "# Reconstruct the video using graph algorithms\n",
    "minG = rv.get_minimum_spanning_tree(X_iso)\n",
    "order = rv.get_path_from_MSP(minG)"
   ]
  },
  {
   "cell_type": "code",
   "execution_count": 19,
   "metadata": {
    "collapsed": true
   },
   "outputs": [],
   "source": [
    "# Save reconstructed frames as dcd\n",
    "rv.save_new_trajectory(temp, order, 'aligned_xyz_reconst.dcd')"
   ]
  },
  {
   "cell_type": "code",
   "execution_count": 20,
   "metadata": {
    "collapsed": false
   },
   "outputs": [
    {
     "data": {
      "text/plain": [
       "8.0000000000000018"
      ]
     },
     "execution_count": 20,
     "metadata": {},
     "output_type": "execute_result"
    }
   ],
   "source": [
    "num_frames = 5\n",
    "temp1 = np.identity(num_frames-1)\n",
    "temp1 = np.concatenate((temp1, np.zeros((num_frames-1, 1))), axis=1)\n",
    "temp2 = -1*np.identity(num_frames-1)\n",
    "temp2 = np.concatenate((np.zeros((num_frames-1, 1)), temp2), axis=1)\n",
    "difference_matrix = temp1+temp2\n",
    "(np.linalg.norm(difference_matrix))**2"
   ]
  }
 ],
 "metadata": {
  "kernelspec": {
   "display_name": "Python 2",
   "language": "python",
   "name": "python2"
  },
  "language_info": {
   "codemirror_mode": {
    "name": "ipython",
    "version": 2
   },
   "file_extension": ".py",
   "mimetype": "text/x-python",
   "name": "python",
   "nbconvert_exporter": "python",
   "pygments_lexer": "ipython2",
   "version": "2.7.12"
  }
 },
 "nbformat": 4,
 "nbformat_minor": 0
}
