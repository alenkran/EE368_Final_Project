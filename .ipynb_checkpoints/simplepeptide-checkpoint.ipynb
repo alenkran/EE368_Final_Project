{
 "cells": [
  {
   "cell_type": "markdown",
   "metadata": {},
   "source": [
    "# Simple peptide simulations\n",
    "\n",
    "### Imports"
   ]
  },
  {
   "cell_type": "code",
   "execution_count": 1,
   "metadata": {
    "collapsed": false
   },
   "outputs": [],
   "source": [
    "import mdtraj as md\n",
    "import numpy as np\n",
    "import scipy\n",
    "from scipy import ndimage\n",
    "from scipy import misc\n",
    "from sklearn import (manifold, datasets, decomposition, ensemble, discriminant_analysis, random_projection)\n",
    "import reconstruct_video as rv\n",
    "import networkx as nx"
   ]
  },
  {
   "cell_type": "markdown",
   "metadata": {},
   "source": [
    "### AK peptide reconstruction with (x,y,z)"
   ]
  },
  {
   "cell_type": "code",
   "execution_count": 4,
   "metadata": {
    "collapsed": false
   },
   "outputs": [],
   "source": [
    "# Read Data and Apply ISOMAP\n",
    "\n",
    "# read data\n",
    "t = md.load('.\\\\Data\\\\akpeptide\\\\ak19_2500ps.dcd', top='.\\\\Data\\\\akpeptide\\\\ak19.pdb')\n",
    "t = t[0:500]\n",
    "\n",
    "# Get trajectory info. reshape to prep for isomap\n",
    "num_frames, num_atoms, num_axis = t.xyz.shape\n",
    "X = np.reshape(t.xyz, (num_frames, num_atoms*num_axis))\n",
    "np.random.shuffle(X)\n",
    "\n",
    "# apply isomap\n",
    "n_neighbors = 5\n",
    "n_components = 20\n",
    "X_iso = manifold.Isomap(n_neighbors, n_components).fit_transform(X)"
   ]
  },
  {
   "cell_type": "code",
   "execution_count": 6,
   "metadata": {
    "collapsed": false,
    "scrolled": true
   },
   "outputs": [],
   "source": [
    "# Save shuffled frames as dcd\n",
    "temp = t\n",
    "temp.xyz = np.reshape(X, (num_frames, num_atoms, num_axis))\n",
    "temp.save_dcd('temp.dcd')"
   ]
  },
  {
   "cell_type": "code",
   "execution_count": 7,
   "metadata": {
    "collapsed": false
   },
   "outputs": [],
   "source": [
    "reload(rv)\n",
    "# Reconstruct the video using graph algorithms\n",
    "minG = rv.get_minimum_spanning_tree(X_iso)\n",
    "order = rv.get_path_from_MSP(minG)"
   ]
  },
  {
   "cell_type": "code",
   "execution_count": 8,
   "metadata": {
    "collapsed": true
   },
   "outputs": [],
   "source": [
    "# Save reconstructed frames as dcd\n",
    "rv.save_new_trajectory(temp, order, 'temp_recon.dcd')"
   ]
  },
  {
   "cell_type": "markdown",
   "metadata": {
    "collapsed": false
   },
   "source": [
    "### AK peptide reconstruction with (psi, psi)"
   ]
  },
  {
   "cell_type": "code",
   "execution_count": 15,
   "metadata": {
    "collapsed": true
   },
   "outputs": [],
   "source": [
    "# read data\n",
    "t = md.load('.\\\\Data\\\\akpeptide\\\\ak19_2500ps.dcd', top='.\\\\Data\\\\akpeptide\\\\ak19.pdb')\n",
    "t = t[0:500]\n",
    "\n",
    "# Get trajectory info. get phi shi angle data\n",
    "phi_idx, phi = md.compute_phi(t)\n",
    "psi_idx, psi = md.compute_psi(t)\n",
    "angles = np.concatenate((phi, psi), axis=1)\n",
    "num_frames, num_angles = angles.shape\n",
    "#shuffle_idx = np.random.permutation(num_frames)\n",
    "shuffle_idx = range(num_frames)\n",
    "angles = angles[shuffle_idx, :]\n",
    "\n",
    "# apply isomap\n",
    "n_neighbors = 5\n",
    "n_components = 10\n",
    "iso_angles = manifold.Isomap(n_neighbors, n_components).fit_transform(angles)"
   ]
  },
  {
   "cell_type": "code",
   "execution_count": 16,
   "metadata": {
    "collapsed": true
   },
   "outputs": [],
   "source": [
    "# Save shuffled frames as dcd\n",
    "temp = t\n",
    "temp.xyz = temp.xyz[shuffle_idx, :, :]\n",
    "temp.save_dcd('phi_psi_shuffled.dcd')"
   ]
  },
  {
   "cell_type": "code",
   "execution_count": 17,
   "metadata": {
    "collapsed": false
   },
   "outputs": [],
   "source": [
    "reload(rv)\n",
    "# Reconstruct the video using graph algorithms\n",
    "minG_angles = rv.get_minimum_spanning_tree(iso_angles)\n",
    "order_angles = rv.get_path_from_MSP(minG_angles)"
   ]
  },
  {
   "cell_type": "code",
   "execution_count": 18,
   "metadata": {
    "collapsed": false
   },
   "outputs": [],
   "source": [
    "# Save reconstructed frames as dcd\n",
    "rv.save_new_trajectory(temp, order_angles, 'phi_psi_reconst.dcd')"
   ]
  },
  {
   "cell_type": "code",
   "execution_count": 20,
   "metadata": {
    "collapsed": false
   },
   "outputs": [
    {
     "name": "stdout",
     "output_type": "stream",
     "text": [
      "[35, 53, 39, 41, 78, 71, 77, 101, 99, 97, 96, 98, 90, 17, 91, 7, 14, 11, 23, 29, 105, 106, 133, 131, 120, 127, 118, 138, 167, 169, 173, 170, 175, 176, 219, 201, 257, 247, 256, 196, 198, 255, 250, 228, 223, 236, 226, 227, 275, 200, 285, 288, 287, 304, 307, 308, 310, 313, 315, 319, 321, 324, 327, 348, 352, 346, 345, 353, 354, 361, 369, 366, 370, 371, 373, 395, 394, 389, 387, 386, 388, 385, 393, 365, 362, 401, 400, 397, 431, 429, 435, 450, 474, 472, 473, 493, 494, 497, 496, 490, 484, 486, 483, 476, 479, 478, 477, 481, 471, 470, 466, 467, 463, 464, 468, 462, 456, 460, 457, 453, 440, 438, 430, 432, 436, 433, 426, 427, 425]\n"
     ]
    }
   ],
   "source": [
    "print order_angles"
   ]
  },
  {
   "cell_type": "markdown",
   "metadata": {},
   "source": [
    "### AK peptide reconstruction with (x, y, z) with alignment"
   ]
  },
  {
   "cell_type": "code",
   "execution_count": 23,
   "metadata": {
    "collapsed": false
   },
   "outputs": [],
   "source": [
    "# Read Data and Apply ISOMAP\n",
    "\n",
    "# read data\n",
    "t = md.load('.\\\\Data\\\\akpeptide\\\\ak19_2500ps.dcd', top='.\\\\Data\\\\akpeptide\\\\ak19.pdb')\n",
    "t = t[0:500]\n",
    "t.superpose(t)\n",
    "\n",
    "# Get trajectory info. reshape to prep for isomap\n",
    "num_frames, num_atoms, num_axis = t.xyz.shape\n",
    "X = np.reshape(t.xyz, (num_frames, num_atoms*num_axis))\n",
    "#np.random.shuffle(X)\n",
    "\n",
    "# apply isomap\n",
    "n_neighbors = 5\n",
    "n_components = 20\n",
    "X_iso = manifold.Isomap(n_neighbors, n_components).fit_transform(X)"
   ]
  },
  {
   "cell_type": "code",
   "execution_count": 24,
   "metadata": {
    "collapsed": true
   },
   "outputs": [],
   "source": [
    "# Save shuffled frames as dcd\n",
    "temp = t\n",
    "temp.xyz = np.reshape(X, (num_frames, num_atoms, num_axis))\n",
    "temp.save_dcd('temp.dcd')"
   ]
  },
  {
   "cell_type": "code",
   "execution_count": 25,
   "metadata": {
    "collapsed": true
   },
   "outputs": [],
   "source": [
    "reload(rv)\n",
    "# Reconstruct the video using graph algorithms\n",
    "minG = rv.get_minimum_spanning_tree(X_iso)\n",
    "order = rv.get_path_from_MSP(minG)"
   ]
  },
  {
   "cell_type": "code",
   "execution_count": 26,
   "metadata": {
    "collapsed": true
   },
   "outputs": [],
   "source": [
    "# Save reconstructed frames as dcd\n",
    "rv.save_new_trajectory(temp, order, 'temp_recon.dcd')"
   ]
  },
  {
   "cell_type": "code",
   "execution_count": null,
   "metadata": {
    "collapsed": true
   },
   "outputs": [],
   "source": [
    "print(list(nx.dfs_preorder_nodes(minG,0)))"
   ]
  }
 ],
 "metadata": {
  "kernelspec": {
   "display_name": "Python 2",
   "language": "python",
   "name": "python2"
  },
  "language_info": {
   "codemirror_mode": {
    "name": "ipython",
    "version": 2
   },
   "file_extension": ".py",
   "mimetype": "text/x-python",
   "name": "python",
   "nbconvert_exporter": "python",
   "pygments_lexer": "ipython2",
   "version": "2.7.12"
  }
 },
 "nbformat": 4,
 "nbformat_minor": 0
}
