{
 "cells": [
  {
   "cell_type": "markdown",
   "metadata": {},
   "source": [
    "## Search to find the best numbers for n_neighbors and n_components\n",
    "\n",
    "\n",
    "#### This procedure was performed with the first 1000 frames of the AK peptide. The evaluation metric for the \"goodness\" of a reconstruction was the mean RMSD error between each frames.\n",
    "\n",
    "#### For xyz approach with alignment:"
   ]
  },
  {
   "cell_type": "code",
   "execution_count": null,
   "metadata": {
    "collapsed": false
   },
   "outputs": [],
   "source": [
    "import time\n",
    "import mdtraj as md\n",
    "import numpy as np\n",
    "import scipy\n",
    "from scipy import ndimage\n",
    "from scipy import misc\n",
    "from sklearn import (manifold, datasets, decomposition, ensemble, discriminant_analysis, random_projection)\n",
    "import reconstruct_video as rv\n",
    "import networkx as nx\n",
    "import evaluate_traj as ev"
   ]
  },
  {
   "cell_type": "code",
   "execution_count": 3,
   "metadata": {
    "collapsed": false
   },
   "outputs": [],
   "source": [
    "# Read Data\n",
    "\n",
    "# read data\n",
    "t = md.load('.\\Data\\\\akpeptide\\\\ak19_2500ps.dcd', top='.\\\\Data\\\\akpeptide\\\\ak19.pdb')\n",
    "t = t[0:500]\n",
    "t.superpose(t)\n",
    "\n",
    "# Get trajectory info. reshape to prep for isomap\n",
    "num_frames, num_atoms, num_axis = t.xyz.shape\n",
    "X = np.reshape(t.xyz, (num_frames, num_atoms*num_axis))\n",
    "\n",
    "# Shuffle the frames!!!!!!\n",
    "np.random.shuffle(X)\n",
    "\n",
    "# Save shuffled data (starting dataset)\n",
    "shuffled_traj = t\n",
    "shuffled_traj.xyz = np.reshape(X, (num_frames, num_atoms, num_axis))\n",
    "shuffled_traj.save_dcd('optimize_aligned_xyz_shuffled.dcd')"
   ]
  },
  {
   "cell_type": "code",
   "execution_count": null,
   "metadata": {
    "collapsed": false
   },
   "outputs": [],
   "source": [
    "start_time = time.time()\n",
    "reload(rv)\n",
    "possible_n_neighbors = range(25, 45)\n",
    "possible_n_components = range(20, 41)\n",
    "\n",
    "for n_neighbors in possible_n_neighbors:\n",
    "    print 'n_neighbors:', n_neighbors\n",
    "    for n_components in possible_n_components:\n",
    "        X_iso = manifold.Isomap(n_neighbors, n_components).fit_transform(X)\n",
    "        minG = rv.get_minimum_spanning_tree(X_iso)\n",
    "        order = rv.get_path_from_MSP(minG)\n",
    "        reconstructed_traj = rv.get_reconstructed_traj(shuffled_traj, order)\n",
    "        error = ev.get_RMSD_error(reconstructed_traj)\n",
    "        print error"
   ]
  },
  {
   "cell_type": "code",
   "execution_count": 45,
   "metadata": {
    "collapsed": false
   },
   "outputs": [
    {
     "name": "stdout",
     "output_type": "stream",
     "text": [
      "n_neighbors: 25\n",
      "1.0\n",
      "n_neighbors: 26\n",
      "2.6\n",
      "n_neighbors: 27\n",
      "3.9\n",
      "n_neighbors: 28\n",
      "5.2\n",
      "n_neighbors: 29\n",
      "3.3\n",
      "n_neighbors: 30\n",
      "3.9\n",
      "n_neighbors: 31\n",
      "6.6\n",
      "n_neighbors: 32\n",
      "4.8\n",
      "n_neighbors: 33\n",
      "7.2\n",
      "n_neighbors: 34\n",
      "1.9\n",
      "n_neighbors: 35\n",
      "3.3\n",
      "n_neighbors: 36\n",
      "3.1\n",
      "n_neighbors: 37\n",
      "2.0\n",
      "n_neighbors: 38\n",
      "2.5\n",
      "n_neighbors: 39\n",
      "3.4\n",
      "n_neighbors: 40\n",
      "4.2\n",
      "n_neighbors: 41\n",
      "2.1\n",
      "n_neighbors: 42\n",
      "2.9\n",
      "n_neighbors: 43\n",
      "2.8\n",
      "n_neighbors: 44\n",
      "3.0\n"
     ]
    }
   ],
   "source": [
    "reload(ev)\n",
    "\n",
    "start_time = time.time()\n",
    "possible_n_neighbors = range(25, 45)\n",
    "possible_n_components = [30]\n",
    "true_order = np.array(range(0,500)).T\n",
    "align_type = 0 #local alignment == 1; global alignment == 0\n",
    "open_gap_penalty = 0.1\n",
    "extend_gap_penalty = 0.1\n",
    "\n",
    "for n_neighbors in possible_n_neighbors:\n",
    "    print 'n_neighbors:', n_neighbors\n",
    "    for n_components in possible_n_components:\n",
    "        X_iso = manifold.Isomap(n_neighbors, n_components).fit_transform(X)\n",
    "        minG = rv.get_minimum_spanning_tree(X_iso)\n",
    "        order = rv.get_path_from_MSP(minG)\n",
    "        score = ev.seq_align(true_order, order, align_type, open_gap_penalty, extend_gap_penalty)\n",
    "        print score"
   ]
  },
  {
   "cell_type": "code",
   "execution_count": null,
   "metadata": {
    "collapsed": false
   },
   "outputs": [],
   "source": [
    "shuffled_traj.xyz.shape"
   ]
  },
  {
   "cell_type": "code",
   "execution_count": null,
   "metadata": {
    "collapsed": false
   },
   "outputs": [],
   "source": [
    "t.xyz.shape"
   ]
  },
  {
   "cell_type": "code",
   "execution_count": 13,
   "metadata": {
    "collapsed": false
   },
   "outputs": [
    {
     "data": {
      "text/plain": [
       "(100L, 687L)"
      ]
     },
     "execution_count": 13,
     "metadata": {},
     "output_type": "execute_result"
    }
   ],
   "source": [
    "X.shape"
   ]
  }
 ],
 "metadata": {
  "anaconda-cloud": {},
  "kernelspec": {
   "display_name": "Python [default]",
   "language": "python",
   "name": "python2"
  },
  "language_info": {
   "codemirror_mode": {
    "name": "ipython",
    "version": 2
   },
   "file_extension": ".py",
   "mimetype": "text/x-python",
   "name": "python",
   "nbconvert_exporter": "python",
   "pygments_lexer": "ipython2",
   "version": "2.7.11"
  }
 },
 "nbformat": 4,
 "nbformat_minor": 0
}
