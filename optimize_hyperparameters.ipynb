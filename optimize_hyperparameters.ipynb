{
 "cells": [
  {
   "cell_type": "markdown",
   "metadata": {},
   "source": [
    "## Search to find the best numbers for n_neighbors and n_components\n",
    "\n",
    "\n",
    "#### This procedure was performed with the first 1000 frames of the AK peptide. The evaluation metric for the \"goodness\" of a reconstruction was the mean RMSD error between each frames.\n",
    "\n",
    "#### For xyz approach with alignment:"
   ]
  },
  {
   "cell_type": "code",
   "execution_count": 1,
   "metadata": {
    "collapsed": true
   },
   "outputs": [],
   "source": [
    "import time\n",
    "import mdtraj as md\n",
    "import numpy as np\n",
    "import scipy\n",
    "from scipy import ndimage\n",
    "from scipy import misc\n",
    "from sklearn import (manifold, datasets, decomposition, ensemble, discriminant_analysis, random_projection)\n",
    "import reconstruct_video as rv\n",
    "import networkx as nx\n",
    "import evaluate_traj as ev"
   ]
  },
  {
   "cell_type": "code",
   "execution_count": 11,
   "metadata": {
    "collapsed": false
   },
   "outputs": [],
   "source": [
    "# Read Data\n",
    "\n",
    "# read data\n",
    "t = md.load('.\\\\Data\\\\akpeptide\\\\ak19_2500ps.dcd', top='.\\\\Data\\\\akpeptide\\\\ak19.pdb')\n",
    "t = t[0:1000]\n",
    "t.superpose(t)\n",
    "\n",
    "# Get trajectory info. reshape to prep for isomap\n",
    "num_frames, num_atoms, num_axis = t.xyz.shape\n",
    "X = np.reshape(t.xyz, (num_frames, num_atoms*num_axis))\n",
    "\n",
    "# Shuffle the frames!!!!!!\n",
    "np.random.shuffle(X)\n",
    "\n",
    "# Save shuffled data (starting dataset)\n",
    "shuffled_traj = t\n",
    "shuffled_traj.xyz = np.reshape(X, (num_frames, num_atoms, num_axis))\n",
    "shuffled_traj.save_dcd('optimize_aligned_xyz_shuffled.dcd')"
   ]
  },
  {
   "cell_type": "code",
   "execution_count": null,
   "metadata": {
    "collapsed": false
   },
   "outputs": [
    {
     "name": "stdout",
     "output_type": "stream",
     "text": [
      "n_neighbors: 25\n"
     ]
    }
   ],
   "source": [
    "start_time = time.time()\n",
    "reload(rv)\n",
    "possible_n_neighbors = range(25, 45)\n",
    "possible_n_components = range(20, 41)\n",
    "\n",
    "for n_neighbors in possible_n_neighbors:\n",
    "    print 'n_neighbors:', n_neighbors\n",
    "    for n_components in possible_n_components:\n",
    "        X_iso = manifold.Isomap(n_neighbors, n_components).fit_transform(X)\n",
    "        minG = rv.get_minimum_spanning_tree(X_iso)\n",
    "        order = rv.get_path_from_MSP(minG)\n",
    "        reconstructed_traj = rv.get_reconstructed_traj(shuffled_traj, order)\n",
    "        error = ev.get_RMSD_error(reconstructed_traj)\n",
    "        print error\n",
    "        \n",
    "        "
   ]
  },
  {
   "cell_type": "code",
   "execution_count": 8,
   "metadata": {
    "collapsed": false
   },
   "outputs": [
    {
     "data": {
      "text/plain": [
       "(99L, 229L, 3L)"
      ]
     },
     "execution_count": 8,
     "metadata": {},
     "output_type": "execute_result"
    }
   ],
   "source": [
    "shuffled_traj.xyz.shape"
   ]
  },
  {
   "cell_type": "code",
   "execution_count": 5,
   "metadata": {
    "collapsed": false
   },
   "outputs": [
    {
     "data": {
      "text/plain": [
       "(100L, 229L, 3L)"
      ]
     },
     "execution_count": 5,
     "metadata": {},
     "output_type": "execute_result"
    }
   ],
   "source": [
    "t.xyz.shape"
   ]
  },
  {
   "cell_type": "code",
   "execution_count": 6,
   "metadata": {
    "collapsed": false
   },
   "outputs": [
    {
     "data": {
      "text/plain": [
       "(100L, 687L)"
      ]
     },
     "execution_count": 6,
     "metadata": {},
     "output_type": "execute_result"
    }
   ],
   "source": [
    "X.shape"
   ]
  }
 ],
 "metadata": {
  "kernelspec": {
   "display_name": "Python 2",
   "language": "python",
   "name": "python2"
  },
  "language_info": {
   "codemirror_mode": {
    "name": "ipython",
    "version": 2
   },
   "file_extension": ".py",
   "mimetype": "text/x-python",
   "name": "python",
   "nbconvert_exporter": "python",
   "pygments_lexer": "ipython2",
   "version": "2.7.12"
  }
 },
 "nbformat": 4,
 "nbformat_minor": 0
}
